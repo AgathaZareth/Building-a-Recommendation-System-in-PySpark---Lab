{
 "cells": [
  {
   "cell_type": "markdown",
   "metadata": {},
   "source": [
    "# Building a Recommendation System in PySpark - Lab\n",
    "\n",
    "## Introduction\n",
    "\n",
    "In this lab, we will implement a movie recommendation system using ALS in Spark programming environment. Spark's machine learning library `ml` comes packaged with a very efficient implementation of the ALS algorithm that we looked at in the previous lesson. The lab will require you to put into practice your Spark programming skills for creating and manipulating PySpark DataFrames. We will go through a step-by-step process into developing a movie recommendation system using ALS and PySpark using the `MovieLens` dataset that we used in a previous lab.\n",
    "\n",
    "Note: You are advised to refer to [PySpark documentation](http://spark.apache.org/docs/2.2.0/api/python/index.html) heavily for completing this lab as it will introduce a few new methods. \n",
    "\n",
    "\n",
    "## Objectives\n",
    "\n",
    "In this lab you will: \n",
    "\n",
    "- Use Spark to train and cross-validate an ALS model \n",
    "- Introduce a new user with rating to a rating matrix and make recommendations for them \n",
    "- Create a function that will return the top n recommendations for a user "
   ]
  },
  {
   "cell_type": "markdown",
   "metadata": {},
   "source": [
    "## Building a Recommendation System\n",
    "\n",
    "We have seen how recommendation systems have played an integral part in the success of Amazon (books, items), Pandora/Spotify (music), Google (news, search), YouTube (videos) etc.  For Amazon, these systems bring more than 30% of their total revenue. For Netflix, 75% of movies that people watch are based on some sort of recommendation.\n",
    "\n",
    "> The goal of recommendation systems is to find what is likely to be of interest to the user. This enables organizations to offer a high level of personalization and customer tailored services.\n",
    "\n",
    "\n",
    "For online video content services like Netflix and Hulu, the need to build robust movie recommendation systems is extremely important. An example of a recommendation system is such as this:\n",
    "\n",
    "1.    User A watches Game of Thrones and Breaking Bad \n",
    "2.    User B performs a search query for Game of Thrones \n",
    "3.    The system suggests Breaking Bad to user B from data collected about user A \n",
    "\n",
    "\n",
    "This lab will guide you through a step-by-step process into developing such a movie recommendation system. We will use the `MovieLens` dataset to build a movie recommendation system using the collaborative filtering technique with Spark's Alternating Least Squares implementation. After building that recommendation system, we will go through the process of adding a new user to the dataset with some new ratings and obtaining new recommendations for that user.\n",
    "\n",
    "### Importing the Data\n",
    "\n",
    "* Initialize a `SparkSession` object\n",
    "* Import the dataset found at `'./data/ratings.csv'` into a PySpark DataFrame"
   ]
  },
  {
   "cell_type": "code",
   "execution_count": 1,
   "metadata": {},
   "outputs": [],
   "source": [
    "# import necessary libraries\n",
    "from pyspark.sql import SparkSession \n",
    "\n",
    "# instantiate SparkSession object\n",
    "# spark = SparkSession.builder.master(\"local\").getOrCreate()\n",
    "spark = SparkSession.builder.master('local').getOrCreate()\n"
   ]
  },
  {
   "cell_type": "code",
   "execution_count": 2,
   "metadata": {},
   "outputs": [
    {
     "name": "stdout",
     "output_type": "stream",
     "text": [
      "+------+-------+------+---------+\n",
      "|userId|movieId|rating|timestamp|\n",
      "+------+-------+------+---------+\n",
      "|     1|      1|   4.0|964982703|\n",
      "|     1|      3|   4.0|964981247|\n",
      "|     1|      6|   4.0|964982224|\n",
      "+------+-------+------+---------+\n",
      "only showing top 3 rows\n",
      "\n"
     ]
    }
   ],
   "source": [
    "# read in the dataset into pyspark DataFrame\n",
    "movie_ratings = spark.read.csv('./data/ratings.csv', header=\"true\", inferSchema=\"true\")\n",
    "movie_ratings.show(3)"
   ]
  },
  {
   "cell_type": "markdown",
   "metadata": {},
   "source": [
    "Check the data types of each of the columns to ensure that they are a type that makes sense given the column."
   ]
  },
  {
   "cell_type": "code",
   "execution_count": 3,
   "metadata": {},
   "outputs": [
    {
     "data": {
      "text/plain": [
       "['userId', 'movieId', 'rating', 'timestamp']"
      ]
     },
     "execution_count": 3,
     "metadata": {},
     "output_type": "execute_result"
    }
   ],
   "source": [
    "movie_ratings.columns"
   ]
  },
  {
   "cell_type": "markdown",
   "metadata": {},
   "source": [
    "We aren't going to need the timestamp, so we can go ahead and remove that column."
   ]
  },
  {
   "cell_type": "code",
   "execution_count": 4,
   "metadata": {},
   "outputs": [
    {
     "name": "stdout",
     "output_type": "stream",
     "text": [
      "+------+-------+------+\n",
      "|userId|movieId|rating|\n",
      "+------+-------+------+\n",
      "|     1|      1|   4.0|\n",
      "|     1|      3|   4.0|\n",
      "|     1|      6|   4.0|\n",
      "+------+-------+------+\n",
      "only showing top 3 rows\n",
      "\n"
     ]
    }
   ],
   "source": [
    "movie_ratings = movie_ratings.drop('timestamp')\n",
    "movie_ratings.show(3)"
   ]
  },
  {
   "cell_type": "markdown",
   "metadata": {},
   "source": [
    "### Fitting the Alternating Least Squares Model"
   ]
  },
  {
   "cell_type": "markdown",
   "metadata": {},
   "source": [
    "Because this dataset is already preprocessed for us, we can go ahead and fit the Alternating Least Squares model.\n",
    "\n",
    "* Import `ALS` from `pyspark.ml.recommendation` module \n",
    "* Use the `.randomSplit()` method on the pyspark DataFrame to separate the dataset into training and test sets\n",
    "* Fit the Alternating Least Squares Model to the training dataset. Make sure to set the `userCol`, `itemCol`, and `ratingCol` to the appropriate columns given this dataset. Then fit the data to the training set and assign it to a variable model  "
   ]
  },
  {
   "cell_type": "code",
   "execution_count": 5,
   "metadata": {},
   "outputs": [],
   "source": [
    "from pyspark.ml.evaluation import RegressionEvaluator\n",
    "\n",
    "from pyspark.ml.recommendation import ALS "
   ]
  },
  {
   "cell_type": "code",
   "execution_count": 6,
   "metadata": {},
   "outputs": [],
   "source": [
    "# split into training and testing sets\n",
    "train, test = movie_ratings.randomSplit(weights=[0.8, 0.2], seed=1)\n",
    "\n",
    "# Build the recommendation model using ALS on the training data\n",
    "# Note we set cold start strategy to 'drop' to ensure we don't get NaN evaluation metrics\n",
    "als = ALS(userCol='userId', itemCol='movieId', ratingCol='rating', coldStartStrategy='drop')\n",
    "\n",
    "# fit the ALS model to the training set\n",
    "model = als.fit(train)"
   ]
  },
  {
   "cell_type": "markdown",
   "metadata": {},
   "source": [
    "Now you've fit the model, and it's time to evaluate it to determine just how well it performed.\n",
    "\n",
    "* Import `RegressionEvalutor` from `pyspark.ml.evaluation` \n",
    "* Generate predictions with your model for the test set by using the `.transform()` method on your ALS model \n",
    "* Evaluate your model and print out the RMSE from your test set "
   ]
  },
  {
   "cell_type": "code",
   "execution_count": 7,
   "metadata": {},
   "outputs": [],
   "source": [
    "# importing appropriate library\n",
    "from pyspark.ml.evaluation import RegressionEvaluator"
   ]
  },
  {
   "cell_type": "code",
   "execution_count": 8,
   "metadata": {},
   "outputs": [],
   "source": [
    "# Evaluate the model by computing the RMSE on the test data\n",
    "predictions = model.transform(test)"
   ]
  },
  {
   "cell_type": "code",
   "execution_count": 9,
   "metadata": {},
   "outputs": [],
   "source": [
    "#evaluator = RegressionEvaluator(predictionCol='prediction', labelCol='rating')\n",
    "evaluator = RegressionEvaluator(metricName='rmse', \n",
    "                                labelCol='rating',\n",
    "                                predictionCol='prediction')"
   ]
  },
  {
   "cell_type": "code",
   "execution_count": 10,
   "metadata": {},
   "outputs": [
    {
     "name": "stdout",
     "output_type": "stream",
     "text": [
      "Root-mean-square error = 0.8755214350833381\n"
     ]
    }
   ],
   "source": [
    "#base_rmse = evaluator.evaluate(predictions, {evaluator.metricName:\"rmse\"})\n",
    "base_rmse = evaluator.evaluate(predictions)\n",
    "\n",
    "print(f'Root-mean-square error = {base_rmse}')"
   ]
  },
  {
   "cell_type": "markdown",
   "metadata": {},
   "source": [
    "### Cross-validation to Find the Optimal Model\n",
    "\n",
    "Let's now find the optimal values for the parameters of the ALS model. Use the built-in `CrossValidator` in PySpark with a suitable param grid and determine the optimal model. Try with the parameters:\n",
    "\n",
    "* regularization = [0.01, 0.001, 0.1]\n",
    "* rank = [4, 10, 50]\n"
   ]
  },
  {
   "cell_type": "code",
   "execution_count": 11,
   "metadata": {},
   "outputs": [],
   "source": [
    "from pyspark.ml.tuning import CrossValidator, ParamGridBuilder"
   ]
  },
  {
   "cell_type": "code",
   "execution_count": 12,
   "metadata": {},
   "outputs": [],
   "source": [
    "# initialize the ALS model\n",
    "als_model = ALS(userCol='userId', itemCol='movieId', ratingCol='rating', coldStartStrategy='drop')"
   ]
  },
  {
   "cell_type": "code",
   "execution_count": 13,
   "metadata": {},
   "outputs": [],
   "source": [
    "# create the parameter grid              \n",
    "params = ParamGridBuilder()\\\n",
    "                .addGrid(als_model.regParam, [0.01, 0.001, 0.1])\\\n",
    "                .addGrid(als_model.rank, [4, 10, 50]).build()"
   ]
  },
  {
   "cell_type": "code",
   "execution_count": 14,
   "metadata": {},
   "outputs": [],
   "source": [
    "# instantiating crossvalidator estimator\n",
    "cv = CrossValidator(estimator=als_model, estimatorParamMaps=params,evaluator=evaluator,parallelism=4)"
   ]
  },
  {
   "cell_type": "code",
   "execution_count": 15,
   "metadata": {},
   "outputs": [],
   "source": [
    "best_model = cv.fit(movie_ratings)  "
   ]
  },
  {
   "cell_type": "code",
   "execution_count": 16,
   "metadata": {},
   "outputs": [
    {
     "data": {
      "text/plain": [
       "50"
      ]
     },
     "execution_count": 16,
     "metadata": {},
     "output_type": "execute_result"
    }
   ],
   "source": [
    "# We see the best model has a rank of 50, so we will use that in our future models with this dataset\n",
    "best_model.bestModel.rank\n",
    "### I did not get 50. My bestModel rank=4..."
   ]
  },
  {
   "cell_type": "code",
   "execution_count": 17,
   "metadata": {},
   "outputs": [
    {
     "data": {
      "text/plain": [
       "ALSModel: uid=ALS_aa3802253eac, rank=50"
      ]
     },
     "execution_count": 17,
     "metadata": {},
     "output_type": "execute_result"
    }
   ],
   "source": [
    "### try to remove .rank \n",
    "best_model.bestModel\n",
    "### still not getting 50"
   ]
  },
  {
   "cell_type": "code",
   "execution_count": 18,
   "metadata": {},
   "outputs": [
    {
     "name": "stdout",
     "output_type": "stream",
     "text": [
      "5\n"
     ]
    },
    {
     "data": {
      "text/plain": [
       "{Param(parent='ALS_aa3802253eac', name='regParam', doc='regularization parameter (>= 0).'): 0.001,\n",
       " Param(parent='ALS_aa3802253eac', name='rank', doc='rank of the factorization'): 50}"
      ]
     },
     "execution_count": 18,
     "metadata": {},
     "output_type": "execute_result"
    }
   ],
   "source": [
    "### automatically select greatest from best_model.avgMetrics\n",
    "import numpy as np\n",
    "i = np.argmax(best_model.avgMetrics)\n",
    "print(i)\n",
    "\n",
    "params[i]\n",
    "### There it is. best_model has params: regParam=0.001, rank=50"
   ]
  },
  {
   "cell_type": "code",
   "execution_count": 19,
   "metadata": {},
   "outputs": [
    {
     "data": {
      "text/plain": [
       "'ALS(regParam=0.001, rank=50)'"
      ]
     },
     "execution_count": 19,
     "metadata": {},
     "output_type": "execute_result"
    }
   ],
   "source": [
    "#### I'm lazy so I want this in copy paste format\n",
    "def best_params_easy(best_params):\n",
    "    base = [i for i in best_params.keys()][0].parent.split('_')[0]\n",
    "    \n",
    "    strings=[]\n",
    "    for tup in [(k.name, v) for k,v in best_params.items()]:\n",
    "        left=tup[0]\n",
    "        right=tup[1]\n",
    "        string = left+'='+str(right)\n",
    "        strings.append(string)\n",
    "        \n",
    "    for i in range(len(strings)):\n",
    "        if i == 0:\n",
    "            print_this = base+\"(\"+strings[i]\n",
    "        else:\n",
    "            print_this = print_this+\", \"+strings[i]\n",
    "            \n",
    "    return print_this+\")\"   \n",
    "\n",
    "best_params_easy(params[5])"
   ]
  },
  {
   "cell_type": "markdown",
   "metadata": {},
   "source": [
    "### Incorporating the names of the movies\n",
    "\n",
    "When we make recommendations, it would be ideal if we could have the actual name of the movie used rather than just an ID. There is another file called `'./data/movies.csv'` that contains all of the names of the movies matched up to the `movie_id` that we have in the ratings dataset.\n",
    "\n",
    "* Import the data into a Spark DataFrame \n",
    "* Look at the first 5 rows"
   ]
  },
  {
   "cell_type": "code",
   "execution_count": 20,
   "metadata": {},
   "outputs": [
    {
     "data": {
      "text/plain": [
       "[Row(movieId=1, title='Toy Story (1995)', genres='Adventure|Animation|Children|Comedy|Fantasy'),\n",
       " Row(movieId=2, title='Jumanji (1995)', genres='Adventure|Children|Fantasy'),\n",
       " Row(movieId=3, title='Grumpier Old Men (1995)', genres='Comedy|Romance'),\n",
       " Row(movieId=4, title='Waiting to Exhale (1995)', genres='Comedy|Drama|Romance'),\n",
       " Row(movieId=5, title='Father of the Bride Part II (1995)', genres='Comedy')]"
      ]
     },
     "execution_count": 20,
     "metadata": {},
     "output_type": "execute_result"
    }
   ],
   "source": [
    "movie_titles = spark.read.csv('./data/movies.csv', header='true', inferSchema='true')\n",
    "\n",
    "movie_titles.head(5)"
   ]
  },
  {
   "cell_type": "markdown",
   "metadata": {},
   "source": [
    "We will eventually be matching up the movie ids with the movie titles. In the cell below, create a function `name_retriever()` that takes in a `movie_id` and returns a string that represents the movie title. \n",
    "\n",
    "> Hint: It's possible to do this operation in one line with the `df.where()` or the `df.filter()` methods "
   ]
  },
  {
   "cell_type": "code",
   "execution_count": 21,
   "metadata": {},
   "outputs": [],
   "source": [
    "##### Experimenting how to extract title"
   ]
  },
  {
   "cell_type": "code",
   "execution_count": 22,
   "metadata": {},
   "outputs": [
    {
     "name": "stdout",
     "output_type": "stream",
     "text": [
      "+-------+--------------------+--------------------+\n",
      "|movieId|               title|              genres|\n",
      "+-------+--------------------+--------------------+\n",
      "|      1|    Toy Story (1995)|Adventure|Animati...|\n",
      "|      2|      Jumanji (1995)|Adventure|Childre...|\n",
      "|      3|Grumpier Old Men ...|      Comedy|Romance|\n",
      "+-------+--------------------+--------------------+\n",
      "only showing top 3 rows\n",
      "\n"
     ]
    }
   ],
   "source": [
    "movie_titles.show(3)"
   ]
  },
  {
   "cell_type": "code",
   "execution_count": 23,
   "metadata": {},
   "outputs": [
    {
     "name": "stdout",
     "output_type": "stream",
     "text": [
      "+-------+----------------+--------------------+\n",
      "|movieId|           title|              genres|\n",
      "+-------+----------------+--------------------+\n",
      "|      1|Toy Story (1995)|Adventure|Animati...|\n",
      "+-------+----------------+--------------------+\n",
      "\n"
     ]
    }
   ],
   "source": [
    "movie_titles.where(movie_titles['movieId']==1).show()"
   ]
  },
  {
   "cell_type": "code",
   "execution_count": 24,
   "metadata": {},
   "outputs": [
    {
     "data": {
      "text/plain": [
       "[Row(movieId=1, title='Toy Story (1995)', genres='Adventure|Animation|Children|Comedy|Fantasy')]"
      ]
     },
     "execution_count": 24,
     "metadata": {},
     "output_type": "execute_result"
    }
   ],
   "source": [
    "movie_titles.where(movie_titles['movieId']==1).take(1)"
   ]
  },
  {
   "cell_type": "code",
   "execution_count": 25,
   "metadata": {},
   "outputs": [
    {
     "data": {
      "text/plain": [
       "Row(movieId=1, title='Toy Story (1995)', genres='Adventure|Animation|Children|Comedy|Fantasy')"
      ]
     },
     "execution_count": 25,
     "metadata": {},
     "output_type": "execute_result"
    }
   ],
   "source": [
    "movie_titles.where(movie_titles['movieId']==1).take(1)[0]"
   ]
  },
  {
   "cell_type": "code",
   "execution_count": 26,
   "metadata": {},
   "outputs": [
    {
     "data": {
      "text/plain": [
       "'Toy Story (1995)'"
      ]
     },
     "execution_count": 26,
     "metadata": {},
     "output_type": "execute_result"
    }
   ],
   "source": [
    "movie_titles.where(movie_titles['movieId']==1).take(1)[0].title"
   ]
  },
  {
   "cell_type": "code",
   "execution_count": 27,
   "metadata": {},
   "outputs": [],
   "source": [
    "##### End extraction"
   ]
  },
  {
   "cell_type": "code",
   "execution_count": null,
   "metadata": {},
   "outputs": [],
   "source": []
  },
  {
   "cell_type": "code",
   "execution_count": 28,
   "metadata": {},
   "outputs": [],
   "source": [
    "def name_retriever(movie_id, movie_title_df):\n",
    "    return movie_title_df.where(movie_title_df['movieId']==movie_id).take(1)[0].title"
   ]
  },
  {
   "cell_type": "code",
   "execution_count": 29,
   "metadata": {},
   "outputs": [
    {
     "name": "stdout",
     "output_type": "stream",
     "text": [
      "Winnie the Pooh and the Blustery Day (1968)\n"
     ]
    }
   ],
   "source": [
    "print(name_retriever(1023, movie_titles))"
   ]
  },
  {
   "cell_type": "markdown",
   "metadata": {},
   "source": [
    "## Getting Recommendations\n",
    "\n",
    "Now it's time to actually get some recommendations! The ALS model has built-in methods called `.recommendForUserSubset()` and `.recommendForAllUsers()`. We'll start off with using a subset of users. "
   ]
  },
  {
   "cell_type": "code",
   "execution_count": 30,
   "metadata": {},
   "outputs": [],
   "source": [
    "users = movie_ratings.select(als.getUserCol()).distinct().limit(1)\n",
    "userSubsetRecs = model.recommendForUserSubset(users, 10)\n",
    "recs = userSubsetRecs.take(1)"
   ]
  },
  {
   "cell_type": "markdown",
   "metadata": {},
   "source": [
    "We can now see we have a list of rows with recommended items. Now try and get the name of the top recommended movie by way of the function you just created, using number one item for this user."
   ]
  },
  {
   "cell_type": "code",
   "execution_count": 31,
   "metadata": {},
   "outputs": [
    {
     "data": {
      "text/plain": [
       "'The Big Bus (1976)'"
      ]
     },
     "execution_count": 31,
     "metadata": {},
     "output_type": "execute_result"
    }
   ],
   "source": [
    "# use indexing to obtain the movie id of top predicted rated item\n",
    "first_recommendation = recs[0]['recommendations'][0][0]\n",
    "\n",
    "# use the name retriever function to get the values\n",
    "name_retriever(first_recommendation,movie_titles)"
   ]
  },
  {
   "cell_type": "markdown",
   "metadata": {},
   "source": [
    "Of course, you can also make recommendations for everyone, although this will take longer. In the next line, we are creating an RDD with the top 5 recommendations for every user and then selecting one user to find out his predictions:"
   ]
  },
  {
   "cell_type": "code",
   "execution_count": 32,
   "metadata": {},
   "outputs": [
    {
     "data": {
      "text/plain": [
       "[Row(userId=3, recommendations=[Row(movieId=70946, rating=5.7106852531433105), Row(movieId=6835, rating=4.943024158477783), Row(movieId=5746, rating=4.943024158477783), Row(movieId=5919, rating=4.943024158477783), Row(movieId=5181, rating=4.892704010009766)])]"
      ]
     },
     "execution_count": 32,
     "metadata": {},
     "output_type": "execute_result"
    }
   ],
   "source": [
    "recommendations = model.recommendForAllUsers(5)\n",
    "recommendations.where(recommendations.userId == 3).collect()"
   ]
  },
  {
   "cell_type": "code",
   "execution_count": 33,
   "metadata": {},
   "outputs": [],
   "source": [
    "########## experimenting with extracting recos in 'reader-friendly manner' for \n",
    "# function below"
   ]
  },
  {
   "cell_type": "code",
   "execution_count": 34,
   "metadata": {},
   "outputs": [
    {
     "data": {
      "text/plain": [
       "[Row(movieId=70946, rating=5.7106852531433105),\n",
       " Row(movieId=6835, rating=4.943024158477783),\n",
       " Row(movieId=5746, rating=4.943024158477783),\n",
       " Row(movieId=5919, rating=4.943024158477783),\n",
       " Row(movieId=5181, rating=4.892704010009766)]"
      ]
     },
     "execution_count": 34,
     "metadata": {},
     "output_type": "execute_result"
    }
   ],
   "source": [
    "recos = recommendations.where(recommendations.userId == 3).collect()[0][1]\n",
    "recos"
   ]
  },
  {
   "cell_type": "code",
   "execution_count": 35,
   "metadata": {},
   "outputs": [
    {
     "data": {
      "text/plain": [
       "Row(movieId=70946, rating=5.7106852531433105)"
      ]
     },
     "execution_count": 35,
     "metadata": {},
     "output_type": "execute_result"
    }
   ],
   "source": [
    "recos[0] # number 1 reco"
   ]
  },
  {
   "cell_type": "code",
   "execution_count": 36,
   "metadata": {},
   "outputs": [
    {
     "data": {
      "text/plain": [
       "70946"
      ]
     },
     "execution_count": 36,
     "metadata": {},
     "output_type": "execute_result"
    }
   ],
   "source": [
    "recos[0][0] # number 1 reco, movie_id"
   ]
  },
  {
   "cell_type": "code",
   "execution_count": 37,
   "metadata": {},
   "outputs": [
    {
     "data": {
      "text/plain": [
       "5.7106852531433105"
      ]
     },
     "execution_count": 37,
     "metadata": {},
     "output_type": "execute_result"
    }
   ],
   "source": [
    "recos[0][1] # number 1 reco, predicted_rating"
   ]
  },
  {
   "cell_type": "code",
   "execution_count": 38,
   "metadata": {},
   "outputs": [
    {
     "name": "stdout",
     "output_type": "stream",
     "text": [
      "Row(movieId=70946, rating=5.7106852531433105)\n",
      "\n",
      "Number 1 recommendation:\n",
      "\tMovie: \tTroll 2 (1990)\n",
      "\tPredicted rating: 5.7106852531433105\n"
     ]
    }
   ],
   "source": [
    "# n_recommendation = int\n",
    "# movie_id = recos[n_recommendation][0]\n",
    "# title = name_retriever(movie_id, movie_title_df)\n",
    "# predicted_rating = recos[n_recommendation][1]\n",
    "\n",
    "n_recommendation = 0\n",
    "movie_id = recos[n_recommendation][0]\n",
    "title = name_retriever(movie_id, movie_titles)\n",
    "predicted_rating = recos[n_recommendation][1]\n",
    "\n",
    "print(recos[0])\n",
    "print()\n",
    "\n",
    "print(f'Number {n_recommendation+1} recommendation:')\n",
    "print(f'\\tMovie: \\t{title}')\n",
    "print(f'\\tPredicted rating: {predicted_rating}')"
   ]
  },
  {
   "cell_type": "code",
   "execution_count": 39,
   "metadata": {},
   "outputs": [
    {
     "name": "stdout",
     "output_type": "stream",
     "text": [
      "Number 1 recommendation:\n",
      "\tMovie: \tTroll 2 (1990)\n",
      "\tPredicted rating: 5.71\n",
      "Number 2 recommendation:\n",
      "\tMovie: \tAlien Contamination (1980)\n",
      "\tPredicted rating: 4.94\n",
      "Number 3 recommendation:\n",
      "\tMovie: \tGalaxy of Terror (Quest) (1981)\n",
      "\tPredicted rating: 4.94\n",
      "Number 4 recommendation:\n",
      "\tMovie: \tAndroid (1982)\n",
      "\tPredicted rating: 4.94\n",
      "Number 5 recommendation:\n",
      "\tMovie: \tHangar 18 (1980)\n",
      "\tPredicted rating: 4.89\n"
     ]
    }
   ],
   "source": [
    "# try to convert to for loop to print all recos\n",
    "for i in range(len(recos)):\n",
    "    movie_id = recos[i][0]\n",
    "    title = name_retriever(movie_id, movie_titles)\n",
    "    predicted_rating = recos[i][1]\n",
    "    \n",
    "    print(f'Number {i+1} recommendation:')\n",
    "    print(f'\\tMovie: \\t{title}')\n",
    "    print(f'\\tPredicted rating: {round(predicted_rating,2)}')\n",
    "    "
   ]
  },
  {
   "cell_type": "code",
   "execution_count": 40,
   "metadata": {},
   "outputs": [],
   "source": [
    "##########"
   ]
  },
  {
   "cell_type": "markdown",
   "metadata": {},
   "source": [
    "### Getting Predictions for a New User\n",
    "\n",
    "Now, it's time to put together all that you've learned in this section to create a function that will take in a new user and some movies they've rated and then return $n$ number of highest recommended movies. This function will have multiple different steps to it:\n",
    "\n",
    "* Adding the new ratings into the DataFrame (hint: look into using the `.union()` method) \n",
    "* Fitting the ALS model  \n",
    "* Make recommendations for the user of choice \n",
    "* Print out the names of the top $n$ recommendations in a reader-friendly manner \n",
    "\n",
    "The function should take in the parameters: \n",
    "\n",
    "* `user_id` : int \n",
    "* `new_ratings` : list of tuples in the format (user_id, item_id, rating)\n",
    "* `rating_df` : spark DF containing ratings\n",
    "* `movie_title_df` : spark DF containing movie titles\n",
    "* `num_recs` : int"
   ]
  },
  {
   "cell_type": "markdown",
   "metadata": {},
   "source": [
    "Rate new movies\n",
    "\n",
    "```python\n",
    "[Row(movieId=3253, title='Wayne's World (1992)', genres='Comedy'),\n",
    " Row(movieId=2459, title='Texas Chainsaw Massacre, The (1974)', genres='Horror'),\n",
    " Row(movieId=2513, title='Pet Sematary (1989)', genres='Horror'),\n",
    " Row(movieId=6502, title='28 Days Later (2002)', genres='Action|Horror|Sci-Fi'),\n",
    " Row(movieId=1091, title='Weekend at Bernie's (1989)', genres='Comedy'),\n",
    "Row(movieId=441, title='Dazed and Confused (1993)', genres='Comedy'),\n",
    "Row(movieId=370, title='Naked Gun 33 1/3: The Final Insult (1994)', genres='Action|Comedy')]\n",
    "\n",
    "```"
   ]
  },
  {
   "cell_type": "code",
   "execution_count": 41,
   "metadata": {},
   "outputs": [],
   "source": [
    "def new_user_recs(user_id, new_ratings, rating_df, movie_title_df, num_recs):  \n",
    "    \n",
    "    # turn the new_ratings list into a spark DataFrame\n",
    "    # df = spark.createDataFrame(data, column_names)\n",
    "    new_recos_df = spark.createDataFrame(new_ratings, rating_df.columns)\n",
    "    \n",
    "    # combine the new_recos_df df with the (existing) rating_df\n",
    "    combine = rating_df.union(new_recos_df)\n",
    "  \n",
    "    # create an ALS model and fit it\n",
    "    # remember to use the params from grid search\n",
    "    als = ALS(regParam=0.001, \n",
    "                rank=50, \n",
    "                userCol='userId', \n",
    "                itemCol='movieId', \n",
    "                ratingCol='rating', \n",
    "                coldStartStrategy='drop')\n",
    "    model = als.fit(combine)\n",
    "\n",
    "    # make recommendations for all users using the recommendForAllUsers method\n",
    "    recommendations = model.recommendForAllUsers(num_recs)\n",
    "\n",
    "    # get recommendations specifically for the new user that has been added to the DataFrame\n",
    "    recos = recommendations.where(recommendations.userId == user_id).collect()[0][1]  \n",
    "    \n",
    "    # use above format to extract n_recommendation, movie_id, title, and predicted rating\n",
    "    for i in range(num_recs):\n",
    "        movie_id = recos[i][0]\n",
    "        title = name_retriever(movie_id, movie_title_df)\n",
    "        predicted_rating = recos[i][1]\n",
    "\n",
    "        print(f'Number {i+1} recommendation:')\n",
    "        print(f'\\tMovie: \\t{title}')\n",
    "        print(f'\\tPredicted rating: {round(predicted_rating,2)}')"
   ]
  },
  {
   "cell_type": "code",
   "execution_count": 42,
   "metadata": {},
   "outputs": [
    {
     "name": "stdout",
     "output_type": "stream",
     "text": [
      "Number 1 recommendation:\n",
      "\tMovie: \tBack to the Future (1985)\n",
      "\tPredicted rating: 5.71\n",
      "Number 2 recommendation:\n",
      "\tMovie: \tPrincess Bride, The (1987)\n",
      "\tPredicted rating: 5.68\n",
      "Number 3 recommendation:\n",
      "\tMovie: \tHot Fuzz (2007)\n",
      "\tPredicted rating: 5.6\n",
      "Number 4 recommendation:\n",
      "\tMovie: \tInception (2010)\n",
      "\tPredicted rating: 5.59\n",
      "Number 5 recommendation:\n",
      "\tMovie: \tSilence of the Lambs, The (1991)\n",
      "\tPredicted rating: 5.57\n",
      "Number 6 recommendation:\n",
      "\tMovie: \tPrestige, The (2006)\n",
      "\tPredicted rating: 5.56\n",
      "Number 7 recommendation:\n",
      "\tMovie: \tYoung Frankenstein (1974)\n",
      "\tPredicted rating: 5.55\n",
      "Number 8 recommendation:\n",
      "\tMovie: \tSingin' in the Rain (1952)\n",
      "\tPredicted rating: 5.53\n",
      "Number 9 recommendation:\n",
      "\tMovie: \tKingsman: The Secret Service (2015)\n",
      "\tPredicted rating: 5.52\n",
      "Number 10 recommendation:\n",
      "\tMovie: \tSeven (a.k.a. Se7en) (1995)\n",
      "\tPredicted rating: 5.47\n"
     ]
    }
   ],
   "source": [
    "# try out your function with the movies listed above\n",
    "user_id = 100000\n",
    "user_ratings_1 = [(user_id,3253,5),\n",
    "                  (user_id,2459,5),\n",
    "                  (user_id,2513,4),\n",
    "                  (user_id,6502,5),\n",
    "                  (user_id,1091,5),\n",
    "                  (user_id,441,4)]\n",
    "\n",
    "\n",
    "new_user_recs(user_id,\n",
    "             new_ratings=user_ratings_1,\n",
    "             rating_df=movie_ratings,\n",
    "             movie_title_df=movie_titles,\n",
    "             num_recs = 10)"
   ]
  },
  {
   "cell_type": "markdown",
   "metadata": {},
   "source": [
    "So here we have it! Our recommendation system is generating recommendations for the top 10 movies. \n",
    "\n",
    "\n",
    "\n",
    "\n",
    "## Level up (Optional)\n",
    "\n",
    "\n",
    "* Create a user interface to allow users to easily choose items and get recommendations \n",
    "\n",
    "* Use IMDB links to scrape user reviews from IMDB and using basic NLP techniques, create extra embeddings for ALS model  \n",
    "\n",
    "* Create a hybrid recommender system using features like genre \n",
    "\n",
    "## Summary\n",
    "\n",
    "In this lab, you built a model using Spark, performed some parameter selection, and updated the model every time new user preferences came in. You looked at how Spark's ALS implementation can be used to build a scalable and efficient recommendation system. You also saw that such systems can become computationally expensive and using them with an online system could be a problem with traditional computational platforms. Spark's distributed computing architecture provides a great solution to deploy such recommendation systems for real-world applications (think Amazon, Spotify)."
   ]
  },
  {
   "cell_type": "code",
   "execution_count": 43,
   "metadata": {},
   "outputs": [],
   "source": [
    "spark.stop()"
   ]
  },
  {
   "cell_type": "code",
   "execution_count": null,
   "metadata": {},
   "outputs": [],
   "source": []
  }
 ],
 "metadata": {
  "kernelspec": {
   "display_name": "Python 3 (ipykernel)",
   "language": "python",
   "name": "python3"
  },
  "language_info": {
   "codemirror_mode": {
    "name": "ipython",
    "version": 3
   },
   "file_extension": ".py",
   "mimetype": "text/x-python",
   "name": "python",
   "nbconvert_exporter": "python",
   "pygments_lexer": "ipython3",
   "version": "3.10.6"
  }
 },
 "nbformat": 4,
 "nbformat_minor": 4
}
